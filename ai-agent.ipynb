{
 "cells": [
  {
   "cell_type": "markdown",
   "id": "783adf3a-4c34-4182-99dc-3aa00ccf9860",
   "metadata": {},
   "source": [
    "## Developing an AI agent using Pydantic AI, Groq and Tavily"
   ]
  },
  {
   "cell_type": "code",
   "execution_count": 5,
   "id": "7da9e3ba-e2c1-4383-9ff3-4d38c5b4c749",
   "metadata": {},
   "outputs": [],
   "source": [
    "import os\n",
    "\n",
    "from dotenv import load_dotenv\n",
    "from pydantic_ai.agent import Agent\n",
    "from pydantic_ai.common_tools.tavily import tavily_search_tool"
   ]
  },
  {
   "cell_type": "code",
   "execution_count": 12,
   "id": "3636cb57-4d68-4e8f-bf31-61ddc5190ef6",
   "metadata": {},
   "outputs": [],
   "source": [
    "# allow processes to run asynchronously - without these code the ai wont return results\n",
    "# because a RuntimeError: This event loop is already running\n",
    "import nest_asyncio\n",
    "nest_asyncio.apply()"
   ]
  },
  {
   "cell_type": "code",
   "execution_count": 14,
   "id": "a14e7880-95d2-41d9-bb43-5ff62b7cd909",
   "metadata": {},
   "outputs": [],
   "source": [
    "# initialize environment variables\n",
    "load_dotenv()\n",
    "# load API Keys\n",
    "GROQ_API_KEY = os.getenv('GROQ_API_KEY')\n",
    "TAVILY_API_KEY = os.getenv('TAVILY_API_KEY')"
   ]
  },
  {
   "cell_type": "code",
   "execution_count": 15,
   "id": "0881177d-5aa6-4cc1-ab37-bda4ba673053",
   "metadata": {},
   "outputs": [],
   "source": [
    "# load agent\n",
    "agent = Agent(\n",
    "    'groq:llama-3.1-8b-instant',\n",
    "    tools=[tavily_search_tool(TAVILY_API_KEY)],\n",
    "    system_prompt='Search Tavily for the given query and give results.',\n",
    ")"
   ]
  },
  {
   "cell_type": "code",
   "execution_count": 23,
   "id": "fb9719bd-d664-4075-8150-3a2337c79ced",
   "metadata": {},
   "outputs": [],
   "source": [
    "# function to prompt the ai model\n",
    "\n",
    "def query_search_results(q: str) -> str:\n",
    "    result = agent.run_sync(q)\n",
    "    return result.output"
   ]
  },
  {
   "cell_type": "code",
   "execution_count": 28,
   "id": "71aa64aa-979d-4a50-9c38-27d186759ac8",
   "metadata": {},
   "outputs": [
    {
     "name": "stdin",
     "output_type": "stream",
     "text": [
      "How can I help you today?  Why is Israel and Lebanon at war?\n"
     ]
    },
    {
     "name": "stdout",
     "output_type": "stream",
     "text": [
      "Results: The current conflict between Israel and Lebanon is driven by the presence and actions of Hezbollah, a Shia militant group backed by Iran, in Lebanon. Hezbollah has been involved in various conflicts with Israel in the past, including the 2006 Lebanon War. The group has also been accused of stockpiling weapons and missiles in Lebanon, which has led to tensions with Israel.\n",
      "\n",
      "Recently, the Lebanese government has proposed a plan to disarm Hezbollah, which has been met with opposition from the group's supporters. This has led to protests and unrest in Lebanon, with Hezbollah supporters calling for the resignation of the Lebanese government.\n",
      "\n",
      "Israel has also been accused of conducting airstrikes in Lebanon, which has further escalated tensions between the two countries. The situation remains volatile, with both sides trading accusations and threats.\n",
      "\n",
      "It's worth noting that the conflict is also related to the broader regional dynamics, particularly the rivalry between Iran and Saudi Arabia, as well as the presence of other militant groups in the region.\n",
      "Type \"exit\" or \"q\" to quit\"\n"
     ]
    },
    {
     "name": "stdin",
     "output_type": "stream",
     "text": [
      "How can I help you today?  Exit\n"
     ]
    }
   ],
   "source": [
    "# prompt the ai model using the code block below - Enter any question you want.\n",
    "while True:\n",
    "    query = input('How can I help you today? ')\n",
    "    if query.lower() in ['exit', 'q']:\n",
    "        break\n",
    "    print(f'Results: {query_search_results(query)}')\n",
    "    print('Type \"exit\" or \"q\" to quit\"')\n",
    "    "
   ]
  },
  {
   "cell_type": "code",
   "execution_count": null,
   "id": "a6371cd8-18d1-43d0-9be4-e9ceda458f76",
   "metadata": {},
   "outputs": [],
   "source": []
  }
 ],
 "metadata": {
  "kernelspec": {
   "display_name": "Python 3 (ipykernel)",
   "language": "python",
   "name": "python3"
  },
  "language_info": {
   "codemirror_mode": {
    "name": "ipython",
    "version": 3
   },
   "file_extension": ".py",
   "mimetype": "text/x-python",
   "name": "python",
   "nbconvert_exporter": "python",
   "pygments_lexer": "ipython3",
   "version": "3.12.3"
  }
 },
 "nbformat": 4,
 "nbformat_minor": 5
}
